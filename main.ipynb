{
 "cells": [
  {
   "cell_type": "code",
   "execution_count": null,
   "id": "baf5311c-4bf9-4866-b44f-4c165e94c6ac",
   "metadata": {},
   "outputs": [],
   "source": [
    "import random\n",
    "import numpy as np\n",
    "from collections import Counter\n",
    "import matplotlib.pyplot as plt\n",
    "import os\n",
    "from tqdm import tqdm\n",
    "import cv2\n",
    "from sklearn.model_selection import train_test_split\n",
    "from tensorflow.keras.preprocessing.image import ImageDataGenerator\n",
    "from sklearn.preprocessing import LabelEncoder\n",
    "import faiss"
   ]
  },
  {
   "cell_type": "code",
   "execution_count": null,
   "id": "a9577e49-39b5-4d7f-8a00-3e1da640ed3e",
   "metadata": {},
   "outputs": [],
   "source": [
    "'''\n",
    "class KNN:\n",
    "    def __init__(self,k):\n",
    "        self.k = k\n",
    "        \n",
    "    def fit(self, X_train, y_train):\n",
    "        self.X_train = X_train\n",
    "        self.y_train = y_train\n",
    "        \n",
    "    def predict(self, X_test):\n",
    "        predictions = []\n",
    "        for x in X_test.values:\n",
    "            distances = [np.linalg.norm(x - x1) for x1 in self.X_train.values] \n",
    "            indices = np.argsort(distances)[:self.k] \n",
    "            labels = [self.y_train.iloc[i] for i in indices]\n",
    "            result = max(set(labels), key = labels.count) \n",
    "            predictions.append(result) \n",
    "        return predictions\n",
    "        \n",
    "class KNN(object):\n",
    "    def __init__(self):\n",
    "        pass\n",
    "\n",
    "    def train(self, X, y):\n",
    "        self.X_train = X\n",
    "        self.y_train = y\n",
    "\n",
    "    def predict(self, X, k=1):\n",
    "        dists = self.compute_distances(X)\n",
    "        return self.predict_labels(dists, k=k)\n",
    "\n",
    "    def compute_distances(self, X):\n",
    "        num_test = X.shape[0]\n",
    "        num_train = self.X_train.shape[0]\n",
    "        dists = np.zeros((num_test, num_train))\n",
    "        dists = np.sqrt(-2 * np.dot(X, self.X_train.T) + np.sum(self.X_train ** 2, axis=1) + (np.sum(X ** 2, axis=1))[:, np.newaxis])\n",
    "        pass\n",
    "        return dists\n",
    "\n",
    "    def predict_labels(self, dists, k=1):\n",
    "        num_test = dists.shape[0]\n",
    "        y_pred = np.zeros(num_test)\n",
    "        arag = np.argsort(dists)\n",
    "        for i in range(num_test):\n",
    "          # A list of length k storing the labels of the k nearest neighbors to\n",
    "          # the ith test point.\n",
    "            closest_y = []\n",
    "            closest_y = (self.y_train[arag[i, : k]])\n",
    "          #print(closest_y, type(closest_y), len(closest_y))\n",
    "          \n",
    "            pass\n",
    "            count = Counter(closest_y)\n",
    "            most_frequent = count.most_common(1)\n",
    "            y_pred[i] = most_frequent[0][0]\n",
    "            pass\n",
    "\n",
    "        return y_pred\n",
    "\n",
    "'''\n"
   ]
  },
  {
   "cell_type": "code",
   "execution_count": null,
   "id": "9c0ed222-976e-4079-831a-45f18047dfc8",
   "metadata": {},
   "outputs": [],
   "source": [
    "# matplotlib figures appear inline in the notebook rather than a new window\n",
    "%matplotlib inline\n",
    "plt.rcParams[\"figure.figsize\"] = (10.0, 8.0)     # set default size of plots\n",
    "plt.rcParams[\"image.interpolation\"] = \"kaiser\"\n",
    "plt.rcParams[\"image.cmap\"] = \"gray\"\n",
    "\n",
    "%load_ext autoreload\n",
    "%autoreload 2"
   ]
  },
  {
   "cell_type": "code",
   "execution_count": null,
   "id": "2d305ba5-a90e-425c-addb-088441c848a8",
   "metadata": {},
   "outputs": [],
   "source": [
    "data_dir = \"C:/Users/zuzia/Desktop/Coding/Python/semestr IV/Systemy Sztucznej Inteligencji/projekt/archive/images/images/train\""
   ]
  },
  {
   "cell_type": "code",
   "execution_count": null,
   "id": "98a80493-99be-488d-9833-e5b195af974b",
   "metadata": {},
   "outputs": [],
   "source": [
    "sub_folders = os.listdir(data_dir)"
   ]
  },
  {
   "cell_type": "code",
   "execution_count": null,
   "id": "9e53650f-0b5b-497d-8629-c1674934776f",
   "metadata": {},
   "outputs": [],
   "source": [
    "images = []\n",
    "labels = []"
   ]
  },
  {
   "cell_type": "code",
   "execution_count": null,
   "id": "39d33e07-d279-4ae5-b6d6-51c6b33aa83f",
   "metadata": {},
   "outputs": [],
   "source": [
    "# Accessing the labels\n",
    "for sub_folder in sub_folders:\n",
    "    label = sub_folder\n",
    "\n",
    "    # Constructing the path to the current sub-folder\n",
    "    path = os.path.join(data_dir, sub_folder)\n",
    "\n",
    "    # Listing all images in the current sub-folder\n",
    "    sub_folder_images = os.listdir(path)\n",
    "\n",
    "    # Accessing the Images\n",
    "    for image_name in sub_folder_images:\n",
    "        # Constructing the path to the current image\n",
    "        image_path = os.path.join(path, image_name)\n",
    "        # Loading the image using OpenCV\n",
    "        img = cv2.imread(image_path, cv2.IMREAD_GRAYSCALE)  # Read as grayscale\n",
    "        # Appending the image to the list of images\n",
    "        images.append(img)\n",
    "        # Appending the label corresponding to the current sub-folder to the list of labels\n",
    "        labels.append(label)"
   ]
  },
  {
   "cell_type": "code",
   "execution_count": null,
   "id": "fb0362d4-82c8-46e3-8ed8-2d91b4db67ac",
   "metadata": {},
   "outputs": [],
   "source": [
    "# Converting the lists of images and labels to NumPy arrays\n",
    "images = np.array(images)\n",
    "labels = np.array(labels)\n",
    "print(len(images))"
   ]
  },
  {
   "cell_type": "code",
   "execution_count": null,
   "id": "d095192b-f339-4c7d-a354-38eca34efaf0",
   "metadata": {},
   "outputs": [],
   "source": [
    "# Splitting Dataset into training, validation, and test sets\n",
    "X_train, X_test, y_train, y_test = train_test_split(\n",
    "    images, labels, test_size=0.2, random_state=42)\n",
    "\n",
    "X_train, X_val, y_train, y_val = train_test_split(\n",
    "    X_train, y_train, test_size=0.1, random_state=42)"
   ]
  },
  {
   "cell_type": "code",
   "execution_count": null,
   "id": "a677aa8c-97d0-480d-86d8-a88d6fab30b5",
   "metadata": {},
   "outputs": [],
   "source": [
    "# Preprocess the image\n",
    "def preprocessing(img):\n",
    "    img = img / 255.0\n",
    "    img = cv2.resize(img, (48, 48))\n",
    "    return img.reshape  # Reshape to match input shape"
   ]
  },
  {
   "cell_type": "raw",
   "id": "097ae9c6-b83e-4650-986d-282e0d359d25",
   "metadata": {},
   "source": [
    "# Apply preprocessing to training, validation, and test sets\n",
    "X_train = np.array(list(map(preprocessing, X_train)))\n",
    "X_val = np.array(list(map(preprocessing, X_val)))\n",
    "X_test = np.array(list(map(preprocessing, X_test)))"
   ]
  },
  {
   "cell_type": "raw",
   "id": "feb32600-3f9e-4163-9663-e957ed57a0f2",
   "metadata": {},
   "source": [
    "# Reshape input data to remove unnecessary dimension\n",
    "X_train = X_train.reshape(-1, 48, 48, 1)\n",
    "X_val = X_val.reshape(-1, 48, 48, 1)\n",
    "X_test = X_test.reshape(-1, 48, 48, 1)"
   ]
  },
  {
   "cell_type": "code",
   "execution_count": null,
   "id": "b7a4d59a-081d-4de1-8000-76adee0b787b",
   "metadata": {},
   "outputs": [],
   "source": [
    "# Visualize some examples from the dataset\n",
    "# Show a few exapmles of training images from each class\n",
    "classes = ['angry', 'disgust', 'fear', 'happy', 'neutral', 'sad', 'surprise']\n",
    "num_classes = len(classes)\n",
    "samples_per_class = 6\n",
    "for y, cls in enumerate(classes):\n",
    "    idxs = np.flatnonzero(y_train == cls)\n",
    "    if len(idxs) > 0:\n",
    "        idxs = np.random.choice(idxs, samples_per_class, replace=False)\n",
    "        for i, idx in enumerate(idxs):\n",
    "            plt_idx = i * num_classes + y + 1\n",
    "            plt.subplot(samples_per_class, num_classes, plt_idx)\n",
    "            plt.imshow(np.reshape(X_train[idx], (48, 48)), cmap='gray')\n",
    "            plt.axis('off')\n",
    "            if i == 0:\n",
    "                plt.title(cls)\n",
    "plt.show()"
   ]
  },
  {
   "cell_type": "code",
   "execution_count": null,
   "id": "d5460d5f-a964-41dc-b052-ed93ec670e7e",
   "metadata": {},
   "outputs": [],
   "source": [
    "# instance of kNN for the whole dataset\n",
    "dataset_classifier = KNN()\n",
    "dataset_classifier.train(X_train, y_train)"
   ]
  },
  {
   "cell_type": "code",
   "execution_count": null,
   "id": "0bab3011-014b-4def-ab09-f004d8fdb59d",
   "metadata": {},
   "outputs": [],
   "source": [
    "dataset_classifier.compute_distances(X_test)"
   ]
  },
  {
   "cell_type": "code",
   "execution_count": null,
   "id": "2d1e2502-7530-4418-b9f5-df99d8848e71",
   "metadata": {},
   "outputs": [],
   "source": [
    "# Compute and display the accuracy\n",
    "dataset_y_test_pred = dataset_classifier.predict(X_test, k = 50)\n",
    "dataset_num_correct = np.sum(dataset_y_test_pred == y_test)\n",
    "dataset_num_test = X_test.shape[0]\n",
    "dataset_accuracy = float(dataset_num_correct / dataset_num_test)"
   ]
  },
  {
   "cell_type": "code",
   "execution_count": null,
   "id": "d8474ac9-f585-4900-b03f-9f33ecac423e",
   "metadata": {},
   "outputs": [],
   "source": [
    "print('Got %d / %d correct => accuracy: %f' % (dataset_num_correct, dataset_num_test, dataset_accuracy))"
   ]
  }
 ],
 "metadata": {
  "kernelspec": {
   "display_name": "Python 3 (ipykernel)",
   "language": "python",
   "name": "python3"
  },
  "language_info": {
   "codemirror_mode": {
    "name": "ipython",
    "version": 3
   },
   "file_extension": ".py",
   "mimetype": "text/x-python",
   "name": "python",
   "nbconvert_exporter": "python",
   "pygments_lexer": "ipython3",
   "version": "3.12.1"
  }
 },
 "nbformat": 4,
 "nbformat_minor": 5
}
