{
 "cells": [
  {
   "cell_type": "code",
   "execution_count": 1,
   "id": "3181cec4-7abf-4720-902a-ac6aebccea16",
   "metadata": {},
   "outputs": [],
   "source": [
    "import pandas as pd"
   ]
  },
  {
   "cell_type": "code",
   "execution_count": 2,
   "id": "206d7f68-421a-49c6-9b11-a53572087465",
   "metadata": {},
   "outputs": [
    {
     "name": "stdout",
     "output_type": "stream",
     "text": [
      "rura musi jebać\n"
     ]
    }
   ],
   "source": [
    "print(\"rura musi jebać\")"
   ]
  },
  {
   "cell_type": "code",
   "execution_count": null,
   "id": "123ce606-0efb-4b6e-a9f7-a3b59d41ae7d",
   "metadata": {},
   "outputs": [],
   "source": []
  }
 ],
 "metadata": {
  "kernelspec": {
   "display_name": "Python 3 (ipykernel)",
   "language": "python",
   "name": "python3"
  },
  "language_info": {
   "codemirror_mode": {
    "name": "ipython",
    "version": 3
   },
   "file_extension": ".py",
   "mimetype": "text/x-python",
   "name": "python",
   "nbconvert_exporter": "python",
   "pygments_lexer": "ipython3",
   "version": "3.12.1"
  }
 },
 "nbformat": 4,
 "nbformat_minor": 5
}
